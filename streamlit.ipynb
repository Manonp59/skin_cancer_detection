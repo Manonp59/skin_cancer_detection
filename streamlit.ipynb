{
 "cells": [
  {
   "cell_type": "code",
   "execution_count": 4,
   "metadata": {},
   "outputs": [],
   "source": [
    "import streamlit as st\n",
    "from PIL import Image\n",
    "from ultralytics import YOLO\n",
    "\n",
    "\n",
    "model = YOLO('best.pt')\n"
   ]
  },
  {
   "cell_type": "code",
   "execution_count": 43,
   "metadata": {},
   "outputs": [
    {
     "name": "stderr",
     "output_type": "stream",
     "text": [
      "\n",
      "0: 640x544 1 maliganent, 23.4ms\n",
      "Speed: 2.1ms preprocess, 23.4ms inference, 1.9ms postprocess per image at shape (1, 3, 640, 640)\n",
      "WARNING ⚠️ 'Boxes.boxes' is deprecated. Use 'Boxes.data' instead.\n"
     ]
    },
    {
     "data": {
      "text/plain": [
       "ultralytics.yolo.engine.results.Boxes object with attributes:\n",
       "\n",
       "boxes: tensor([[ 35.6631,  48.6731, 136.3560, 145.8229,   0.6851,   1.0000]], device='cuda:0')\n",
       "cls: tensor([1.], device='cuda:0')\n",
       "conf: tensor([0.6851], device='cuda:0')\n",
       "data: tensor([[ 35.6631,  48.6731, 136.3560, 145.8229,   0.6851,   1.0000]], device='cuda:0')\n",
       "id: None\n",
       "is_track: False\n",
       "orig_shape: (194, 165)\n",
       "shape: torch.Size([1, 6])\n",
       "xywh: tensor([[ 86.0096,  97.2480, 100.6929,  97.1498]], device='cuda:0')\n",
       "xywhn: tensor([[0.5213, 0.5013, 0.6103, 0.5008]], device='cuda:0')\n",
       "xyxy: tensor([[ 35.6631,  48.6731, 136.3560, 145.8229]], device='cuda:0')\n",
       "xyxyn: tensor([[0.2161, 0.2509, 0.8264, 0.7517]], device='cuda:0')"
      ]
     },
     "execution_count": 43,
     "metadata": {},
     "output_type": "execute_result"
    }
   ],
   "source": [
    "img = Image.open('melanome-1.jpg').convert('RGB')\n",
    "\n",
    "# Effectuer la détection des objets\n",
    "results = model(img)\n",
    "\n",
    "boxes = results[0].boxes.xyxy[0].cpu().numpy()\n",
    "labels = results[0].names\n",
    "class_name = labels[0]\n",
    "results[0].boxes\n"
   ]
  },
  {
   "cell_type": "code",
   "execution_count": null,
   "metadata": {},
   "outputs": [],
   "source": [
    "def detect_objects(image):\n",
    "    # Convertir l'image en format attendu par YOLOv8\n",
    "    img = Image.open(image).convert('RGB')\n",
    "\n",
    "    # Effectuer la détection des objets\n",
    "    results = model(img)\n",
    "\n",
    "    # Obtenir les coordonnées des boîtes englobantes et les classes prédites\n",
    "    boxes = results.xyxy[0].numpy()\n",
    "    labels = results.names[0]\n",
    "\n",
    "    # Annoter l'image avec les boîtes englobantes\n",
    "    annotated_image = img.copy()\n",
    "    draw = ImageDraw.Draw(annotated_image)\n",
    "    for box in boxes:\n",
    "        x_min, y_min, x_max, y_max, confidence, class_id = box\n",
    "        label = labels[int(class_id)]\n",
    "        draw.rectangle([(x_min, y_min), (x_max, y_max)], outline='red')\n",
    "        draw.text((x_min, y_min), label, fill='red')\n",
    "\n",
    "    return annotated_image\n"
   ]
  }
 ],
 "metadata": {
  "kernelspec": {
   "display_name": "machine-learning",
   "language": "python",
   "name": "python3"
  },
  "language_info": {
   "codemirror_mode": {
    "name": "ipython",
    "version": 3
   },
   "file_extension": ".py",
   "mimetype": "text/x-python",
   "name": "python",
   "nbconvert_exporter": "python",
   "pygments_lexer": "ipython3",
   "version": "3.9.16"
  },
  "orig_nbformat": 4
 },
 "nbformat": 4,
 "nbformat_minor": 2
}
